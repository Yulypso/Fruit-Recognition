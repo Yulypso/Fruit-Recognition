{
  "nbformat": 4,
  "nbformat_minor": 0,
  "metadata": {
    "kernelspec": {
      "display_name": "Python 3",
      "language": "python",
      "name": "python3"
    },
    "language_info": {
      "codemirror_mode": {
        "name": "ipython",
        "version": 2
      },
      "file_extension": ".py",
      "mimetype": "text/x-python",
      "name": "python",
      "nbconvert_exporter": "python",
      "pygments_lexer": "ipython2",
      "version": "2.7.6"
    },
    "colab": {
      "name": "trame_TP.ipynb",
      "provenance": [],
      "collapsed_sections": []
    }
  },
  "cells": [
    {
      "cell_type": "markdown",
      "metadata": {
        "collapsed": false,
        "pycharm": {
          "name": "#%% md\n"
        },
        "id": "xFF8lMtlcN4t"
      },
      "source": [
        "# TP: reconnaissance de forme"
      ]
    },
    {
      "cell_type": "markdown",
      "metadata": {
        "collapsed": false,
        "id": "7rVoBcbdcN4w"
      },
      "source": [
        "# 1.\tSegmentation\r\n",
        "\r\n",
        "\r\n"
      ]
    },
    {
      "cell_type": "markdown",
      "metadata": {
        "collapsed": false,
        "id": "-LXn5YUxcN4x"
      },
      "source": [
        "Choix de la méthode de segmentation la plus pertinente + justification :\n"
      ]
    },
    {
      "cell_type": "markdown",
      "metadata": {
        "collapsed": false,
        "pycharm": {
          "name": "#%% md\n"
        },
        "id": "hNQ8GBEKcN45"
      },
      "source": [
        "Présentation de l'algorithme choisi + organigramme\n"
      ]
    },
    {
      "cell_type": "code",
      "metadata": {
        "pycharm": {
          "name": "#%%\n"
        },
        "id": "lwSC3pX7cN46"
      },
      "source": [
        ""
      ],
      "execution_count": null,
      "outputs": []
    },
    {
      "cell_type": "markdown",
      "metadata": {
        "collapsed": false,
        "id": "-unkWmulcN46"
      },
      "source": [
        "Résultats (contours superposés aux images initiales) et commentaires :\n"
      ]
    },
    {
      "cell_type": "markdown",
      "metadata": {
        "collapsed": false,
        "id": "nd6PoHMFcN47"
      },
      "source": [
        "Points forts et points faibles de la méthode :\n"
      ]
    },
    {
      "cell_type": "markdown",
      "metadata": {
        "collapsed": false,
        "id": "6cMfNW3jcN47"
      },
      "source": [
        "Pistes d’amélioration :"
      ]
    },
    {
      "cell_type": "markdown",
      "metadata": {
        "collapsed": false,
        "id": "cH0i117RcN47"
      },
      "source": [
        "# 2. Choix et calculs des attributs"
      ]
    },
    {
      "cell_type": "markdown",
      "metadata": {
        "collapsed": false,
        "pycharm": {
          "name": "#%% md\n"
        },
        "id": "kfqqzV8IcN48"
      },
      "source": [
        "Choix des attributs + justification :"
      ]
    },
    {
      "cell_type": "markdown",
      "metadata": {
        "collapsed": false,
        "id": "D7MPIMEVcN48"
      },
      "source": [
        "Méthode de calcul et mise en œuvre :\n"
      ]
    },
    {
      "cell_type": "code",
      "metadata": {
        "pycharm": {
          "name": "#%%\n"
        },
        "id": "N0MCJEJacN49"
      },
      "source": [
        ""
      ],
      "execution_count": null,
      "outputs": []
    },
    {
      "cell_type": "markdown",
      "metadata": {
        "collapsed": false,
        "pycharm": {
          "name": "#%% md\n"
        },
        "id": "000gHjOdcN49"
      },
      "source": [
        "# 3. Classification"
      ]
    },
    {
      "cell_type": "markdown",
      "metadata": {
        "collapsed": false,
        "pycharm": {
          "name": "#%% md\n"
        },
        "id": "5chEWGV_cN49"
      },
      "source": [
        "Méthode choisie et mise en oeuvre :"
      ]
    },
    {
      "cell_type": "code",
      "metadata": {
        "pycharm": {
          "name": "#%%\n"
        },
        "id": "UFSKQzA-cN49"
      },
      "source": [
        ""
      ],
      "execution_count": null,
      "outputs": []
    },
    {
      "cell_type": "markdown",
      "metadata": {
        "collapsed": false,
        "id": "l-LGf1BqcN4-"
      },
      "source": [
        "Résultat obtenu et commentaire :"
      ]
    },
    {
      "cell_type": "markdown",
      "metadata": {
        "collapsed": false,
        "id": "7IEFb-pacN4-"
      },
      "source": [
        "# 4. Discussion"
      ]
    },
    {
      "cell_type": "markdown",
      "metadata": {
        "collapsed": false,
        "pycharm": {
          "name": "#%% md\n"
        },
        "id": "rvv4z_uZcN4-"
      },
      "source": [
        "Les images fournies sont-elles réalistes et représentatives de la situation évoquée en introduction ? Pourquoi ? Que seraient pour vous des images réalistes et comment se différencieraient-elles des images fournies ? Quelles difficultés supplémentaires prévoyez-vous pour les différentes étapes de votre algorithme ?\n"
      ]
    },
    {
      "cell_type": "markdown",
      "metadata": {
        "collapsed": false,
        "id": "8nFHaBcJcN4-"
      },
      "source": [
        "Comparez (sur le principe, pas sur les résultats obtenus) les algorithmes de classification proposés (vous pouvez par exemple dresser un tableau comparatif des deux algorithmes). Lequel vous paraît le plus adapté à la situation évoquée en introduction ? Pourquoi ?"
      ]
    },
    {
      "cell_type": "markdown",
      "metadata": {
        "collapsed": false,
        "pycharm": {
          "name": "#%% md\n"
        },
        "id": "VrT0AiW1cN4_"
      },
      "source": [
        "Analysez vos résultats. L’algorithme choisi est-il performant ? Est-il adapté au problème ? Quelles améliorations proposeriez-vous ? Quelles méthodes alternatives proposeriez-vous ?"
      ]
    }
  ]
}