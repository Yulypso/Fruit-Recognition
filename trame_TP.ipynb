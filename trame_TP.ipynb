{
 "cells": [
  {
   "cell_type": "markdown",
   "metadata": {
    "id": "xFF8lMtlcN4t",
    "pycharm": {
     "name": "#%% md\n"
    }
   },
   "source": [
    "# TP: reconnaissance de forme"
   ]
  },
  {
   "cell_type": "markdown",
   "metadata": {
    "id": "7rVoBcbdcN4w"
   },
   "source": [
    "# 1.\tSegmentation\n",
    "\n",
    "\n"
   ]
  },
  {
   "cell_type": "markdown",
   "metadata": {
    "id": "-LXn5YUxcN4x"
   },
   "source": [
    "Choix de la méthode de segmentation la plus pertinente + justification :\n"
   ]
  },
  {
   "cell_type": "markdown",
   "metadata": {
    "id": "hNQ8GBEKcN45",
    "pycharm": {
     "name": "#%% md\n"
    }
   },
   "source": [
    "Présentation de l'algorithme choisi + organigramme\n"
   ]
  },
  {
   "cell_type": "code",
   "execution_count": 1,
   "metadata": {
    "id": "lwSC3pX7cN46",
    "pycharm": {
     "name": "#%%\n"
    }
   },
   "outputs": [],
   "source": [
    "import cv2"
   ]
  },
  {
   "cell_type": "code",
   "execution_count": null,
   "metadata": {},
   "outputs": [],
   "source": [
    "image = cv2.imread('img/avocat_001.jpg') \n",
    "window_name = 'image'\n",
    "cv2.imshow(window_name, image)\n",
    "while True:\n",
    "    key = cv2.waitKey(0)\n",
    "    if key in [27, ord('q'), ord('Q')]:\n",
    "        cv2.destroyAllWindows()"
   ]
  },
  {
   "cell_type": "markdown",
   "metadata": {
    "id": "-unkWmulcN46"
   },
   "source": [
    "Résultats (contours superposés aux images initiales) et commentaires :\n"
   ]
  },
  {
   "cell_type": "markdown",
   "metadata": {
    "id": "nd6PoHMFcN47"
   },
   "source": [
    "Points forts et points faibles de la méthode :\n"
   ]
  },
  {
   "cell_type": "markdown",
   "metadata": {
    "id": "6cMfNW3jcN47"
   },
   "source": [
    "Pistes d’amélioration :"
   ]
  },
  {
   "cell_type": "markdown",
   "metadata": {
    "id": "cH0i117RcN47"
   },
   "source": [
    "# 2. Choix et calculs des attributs"
   ]
  },
  {
   "cell_type": "markdown",
   "metadata": {
    "id": "kfqqzV8IcN48",
    "pycharm": {
     "name": "#%% md\n"
    }
   },
   "source": [
    "Choix des attributs + justification :"
   ]
  },
  {
   "cell_type": "markdown",
   "metadata": {
    "id": "D7MPIMEVcN48"
   },
   "source": [
    "Méthode de calcul et mise en œuvre :\n"
   ]
  },
  {
   "cell_type": "code",
   "execution_count": null,
   "metadata": {
    "id": "N0MCJEJacN49",
    "pycharm": {
     "name": "#%%\n"
    }
   },
   "outputs": [],
   "source": []
  },
  {
   "cell_type": "markdown",
   "metadata": {
    "id": "000gHjOdcN49",
    "pycharm": {
     "name": "#%% md\n"
    }
   },
   "source": [
    "# 3. Classification"
   ]
  },
  {
   "cell_type": "markdown",
   "metadata": {
    "id": "5chEWGV_cN49",
    "pycharm": {
     "name": "#%% md\n"
    }
   },
   "source": [
    "Méthode choisie et mise en oeuvre :"
   ]
  },
  {
   "cell_type": "code",
   "execution_count": null,
   "metadata": {
    "id": "UFSKQzA-cN49",
    "pycharm": {
     "name": "#%%\n"
    }
   },
   "outputs": [],
   "source": []
  },
  {
   "cell_type": "markdown",
   "metadata": {
    "id": "l-LGf1BqcN4-"
   },
   "source": [
    "Résultat obtenu et commentaire :"
   ]
  },
  {
   "cell_type": "markdown",
   "metadata": {
    "id": "7IEFb-pacN4-"
   },
   "source": [
    "# 4. Discussion"
   ]
  },
  {
   "cell_type": "markdown",
   "metadata": {
    "id": "rvv4z_uZcN4-",
    "pycharm": {
     "name": "#%% md\n"
    }
   },
   "source": [
    "Les images fournies sont-elles réalistes et représentatives de la situation évoquée en introduction ? Pourquoi ? Que seraient pour vous des images réalistes et comment se différencieraient-elles des images fournies ? Quelles difficultés supplémentaires prévoyez-vous pour les différentes étapes de votre algorithme ?\n"
   ]
  },
  {
   "cell_type": "markdown",
   "metadata": {
    "id": "8nFHaBcJcN4-"
   },
   "source": [
    "Comparez (sur le principe, pas sur les résultats obtenus) les algorithmes de classification proposés (vous pouvez par exemple dresser un tableau comparatif des deux algorithmes). Lequel vous paraît le plus adapté à la situation évoquée en introduction ? Pourquoi ?"
   ]
  },
  {
   "cell_type": "markdown",
   "metadata": {
    "id": "VrT0AiW1cN4_",
    "pycharm": {
     "name": "#%% md\n"
    }
   },
   "source": [
    "Analysez vos résultats. L’algorithme choisi est-il performant ? Est-il adapté au problème ? Quelles améliorations proposeriez-vous ? Quelles méthodes alternatives proposeriez-vous ?"
   ]
  }
 ],
 "metadata": {
  "colab": {
   "collapsed_sections": [],
   "name": "trame_TP.ipynb",
   "provenance": []
  },
  "kernelspec": {
   "display_name": "Python 3",
   "language": "python",
   "name": "python3"
  },
  "language_info": {
   "codemirror_mode": {
    "name": "ipython",
    "version": 3
   },
   "file_extension": ".py",
   "mimetype": "text/x-python",
   "name": "python",
   "nbconvert_exporter": "python",
   "pygments_lexer": "ipython3",
   "version": "3.8.3"
  }
 },
 "nbformat": 4,
 "nbformat_minor": 1
}
